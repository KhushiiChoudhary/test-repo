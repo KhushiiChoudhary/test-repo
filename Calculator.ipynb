{
 "cells": [
  {
   "cell_type": "code",
   "execution_count": null,
   "id": "a4d46938-b145-4182-9cc0-0de7aed0b0fe",
   "metadata": {},
   "outputs": [
    {
     "name": "stdout",
     "output_type": "stream",
     "text": [
      "1 - Add\n",
      "2 - Subtract\n",
      "3 - Multiply\n",
      "4 - Divide\n",
      "5 - Exit\n",
      "6 - GoodBye!\n"
     ]
    },
    {
     "name": "stdin",
     "output_type": "stream",
     "text": [
      "Choose an operation:  a\n"
     ]
    },
    {
     "name": "stdout",
     "output_type": "stream",
     "text": [
      "Invalid input. Please enter a number.\n",
      "1 - Add\n",
      "2 - Subtract\n",
      "3 - Multiply\n",
      "4 - Divide\n",
      "5 - Exit\n",
      "6 - GoodBye!\n"
     ]
    },
    {
     "name": "stdin",
     "output_type": "stream",
     "text": [
      "Choose an operation:  a\n"
     ]
    },
    {
     "name": "stdout",
     "output_type": "stream",
     "text": [
      "Invalid input. Please enter a number.\n",
      "1 - Add\n",
      "2 - Subtract\n",
      "3 - Multiply\n",
      "4 - Divide\n",
      "5 - Exit\n",
      "6 - GoodBye!\n"
     ]
    },
    {
     "name": "stdin",
     "output_type": "stream",
     "text": [
      "Choose an operation:  1\n",
      "Enter first number:  a\n"
     ]
    },
    {
     "name": "stdout",
     "output_type": "stream",
     "text": [
      "Please enter valid numbers.\n",
      "1 - Add\n",
      "2 - Subtract\n",
      "3 - Multiply\n",
      "4 - Divide\n",
      "5 - Exit\n",
      "6 - GoodBye!\n"
     ]
    },
    {
     "name": "stdin",
     "output_type": "stream",
     "text": [
      "Choose an operation:  3\n",
      "Enter first number:  b\n"
     ]
    },
    {
     "name": "stdout",
     "output_type": "stream",
     "text": [
      "Please enter valid numbers.\n",
      "1 - Add\n",
      "2 - Subtract\n",
      "3 - Multiply\n",
      "4 - Divide\n",
      "5 - Exit\n",
      "6 - GoodBye!\n"
     ]
    },
    {
     "name": "stdin",
     "output_type": "stream",
     "text": [
      "Choose an operation:  r\n"
     ]
    },
    {
     "name": "stdout",
     "output_type": "stream",
     "text": [
      "Invalid input. Please enter a number.\n",
      "1 - Add\n",
      "2 - Subtract\n",
      "3 - Multiply\n",
      "4 - Divide\n",
      "5 - Exit\n",
      "6 - GoodBye!\n"
     ]
    },
    {
     "name": "stdin",
     "output_type": "stream",
     "text": [
      "Choose an operation:  7\n"
     ]
    },
    {
     "name": "stdout",
     "output_type": "stream",
     "text": [
      "Invalid option. Try again.\n",
      "1 - Add\n",
      "2 - Subtract\n",
      "3 - Multiply\n",
      "4 - Divide\n",
      "5 - Exit\n",
      "6 - GoodBye!\n"
     ]
    }
   ],
   "source": [
    "while True:\n",
    "    print(\"1 - Add\")\n",
    "    print(\"2 - Subtract\")\n",
    "    print(\"3 - Multiply\")\n",
    "    print(\"4 - Divide\")\n",
    "    print(\"5 - Exit\")\n",
    "    print(\"6 - GoodBye!\")\n",
    "\n",
    "    try:\n",
    "        option = int(input(\"Choose an operation: \"))\n",
    "    except ValueError:\n",
    "        print(\"Invalid input. Please enter a number.\")\n",
    "        continue\n",
    "\n",
    "    if option == 5 or option == 6:\n",
    "        print(\"Goodbye!\")\n",
    "        break\n",
    "\n",
    "    if option not in [1, 2, 3, 4]:\n",
    "        print(\"Invalid option. Try again.\")\n",
    "        continue\n",
    "\n",
    "    try:\n",
    "        num1 = float(input(\"Enter first number: \"))\n",
    "        num2 = float(input(\"Enter second number: \"))\n",
    "    except ValueError:\n",
    "        print(\"Please enter valid numbers.\")\n",
    "        continue\n",
    "\n",
    "    if option == 1:\n",
    "        result = num1 + num2\n",
    "        op_symbol = \"+\"\n",
    "    elif option == 2:\n",
    "        result = num1 - num2\n",
    "        op_symbol = \"-\"\n",
    "    elif option == 3:\n",
    "        result = num1 * num2\n",
    "        op_symbol = \"*\"\n",
    "    elif option == 4:\n",
    "        if num2 != 0:\n",
    "            result = num1 / num2\n",
    "            op_symbol = \"/\"\n",
    "        else:\n",
    "            print(\"Cannot divide by zero.\")\n",
    "            continue\n",
    "\n",
    "    print(f\"Result: {num1} {op_symbol} {num2} = {result:.2f}\")\n",
    "\n",
    "    another = input(\"Do you want another calculation? (yes/no): \").strip().lower()\n",
    "    if another != \"yes\":\n",
    "        print(\"Goodbye!\")\n",
    "        break"
   ]
  },
  {
   "cell_type": "code",
   "execution_count": null,
   "id": "5e8b2cf7-aba8-4612-b113-1084200d0829",
   "metadata": {},
   "outputs": [],
   "source": []
  }
 ],
 "metadata": {
  "kernelspec": {
   "display_name": "Python 3 (ipykernel)",
   "language": "python",
   "name": "python3"
  },
  "language_info": {
   "codemirror_mode": {
    "name": "ipython",
    "version": 3
   },
   "file_extension": ".py",
   "mimetype": "text/x-python",
   "name": "python",
   "nbconvert_exporter": "python",
   "pygments_lexer": "ipython3",
   "version": "3.12.5"
  }
 },
 "nbformat": 4,
 "nbformat_minor": 5
}
