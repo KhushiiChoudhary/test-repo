{
 "cells": [
  {
   "cell_type": "code",
   "execution_count": 1,
   "id": "106e32c5-c276-4f1c-b52f-296ae21f902f",
   "metadata": {},
   "outputs": [
    {
     "name": "stdout",
     "output_type": "stream",
     "text": [
      "Select operation:\n",
      "1. Add\n",
      "2. Subtract\n",
      "3. Multiply\n",
      "4. Divide\n"
     ]
    },
    {
     "name": "stdin",
     "output_type": "stream",
     "text": [
      "Enter choice (1/2/3/4):  1\n",
      "Enter first number:  5\n",
      "Enter second number:  8\n"
     ]
    },
    {
     "name": "stdout",
     "output_type": "stream",
     "text": [
      "The result is: 13.0\n"
     ]
    }
   ],
   "source": [
    "def add(x, y):\n",
    "    return x + y\n",
    "\n",
    "def subtract(x, y):\n",
    "    return x - y\n",
    "\n",
    "def multiply(x, y):\n",
    "    return x * y\n",
    "\n",
    "def divide(x, y):\n",
    "    if y != 0:\n",
    "        return x / y\n",
    "    else:\n",
    "        return \"Error! Division by zero.\"\n",
    "\n",
    "def calculator():\n",
    "    print(\"Select operation:\")\n",
    "    print(\"1. Add\")\n",
    "    print(\"2. Subtract\")\n",
    "    print(\"3. Multiply\")\n",
    "    print(\"4. Divide\")\n",
    "\n",
    "    choice = input(\"Enter choice (1/2/3/4): \")\n",
    "\n",
    "    if choice in ['1', '2', '3', '4']:\n",
    "        num1 = float(input(\"Enter first number: \"))\n",
    "        num2 = float(input(\"Enter second number: \"))\n",
    "\n",
    "        if choice == '1':\n",
    "            print(f\"The result is: {add(num1, num2)}\")\n",
    "\n",
    "        elif choice == '2':\n",
    "            print(f\"The result is: {subtract(num1, num2)}\")\n",
    "\n",
    "        elif choice == '3':\n",
    "            print(f\"The result is: {multiply(num1, num2)}\")\n",
    "\n",
    "        elif choice == '4':\n",
    "            print(f\"The result is: {divide(num1, num2)}\")\n",
    "    else:\n",
    "        print(\"Invalid input\")\n",
    "\n",
    "# Run the calculator\n",
    "calculator()\n"
   ]
  },
  {
   "cell_type": "code",
   "execution_count": 8,
   "id": "68fc2543-77c3-4b20-b27c-3aa46fbdd4aa",
   "metadata": {},
   "outputs": [
    {
     "name": "stdout",
     "output_type": "stream",
     "text": [
      "1 - Add\n",
      "2 - Subtract\n",
      "3 - Multiply\n",
      "4 - Divide\n",
      "5 - Exit\n",
      "6 - GoodBye!\n"
     ]
    },
    {
     "name": "stdin",
     "output_type": "stream",
     "text": [
      "Choose an operation:  222\n",
      "Enter first number:  222\n",
      "Enter second number:  222\n"
     ]
    },
    {
     "name": "stdout",
     "output_type": "stream",
     "text": [
      "Invalid Operation :)\n",
      "1 - Add\n",
      "2 - Subtract\n",
      "3 - Multiply\n",
      "4 - Divide\n",
      "5 - Exit\n",
      "6 - GoodBye!\n"
     ]
    },
    {
     "name": "stdin",
     "output_type": "stream",
     "text": [
      "Choose an operation:  2\n",
      "Enter first number:  2\n",
      "Enter second number:  2\n"
     ]
    },
    {
     "name": "stdout",
     "output_type": "stream",
     "text": [
      "Result: 0\n",
      "1 - Add\n",
      "2 - Subtract\n",
      "3 - Multiply\n",
      "4 - Divide\n",
      "5 - Exit\n",
      "6 - GoodBye!\n"
     ]
    },
    {
     "name": "stdin",
     "output_type": "stream",
     "text": [
      "Choose an operation:  6\n"
     ]
    }
   ],
   "source": [
    "while True:\n",
    "    print(\"1 - Add\")\n",
    "    print(\"2 - Subtract\")\n",
    "    print(\"3 - Multiply\")\n",
    "    print(\"4 - Divide\")\n",
    "    print(\"5 - Exit\")\n",
    "    print(\"6 - GoodBye!\")\n",
    "\n",
    "    option = int(input(\"Choose an operation: \"))\n",
    "    if option == 5 or option == 6:\n",
    "        break\n",
    "\n",
    "    num1 = int(input(\"Enter first number: \"))\n",
    "    num2 = int(input(\"Enter second number: \"))\n",
    "\n",
    "    if option == 1:\n",
    "        result = num1 + num2\n",
    "    elif option == 2:\n",
    "        result = num1 - num2\n",
    "    elif option == 3:\n",
    "        result = num1 * num2\n",
    "    elif option == 4:\n",
    "        if num2 != 0:\n",
    "            result = num1 / num2\n",
    "        else:\n",
    "            print(\"Invalid Operation: Division by zero\")\n",
    "            continue\n",
    "    else:\n",
    "        print(\"Invalid Operation :)\")\n",
    "        continue\n",
    "\n",
    "    print(f\"Result: {result}\")\n"
   ]
  },
  {
   "cell_type": "code",
   "execution_count": 11,
   "id": "a4d46938-b145-4182-9cc0-0de7aed0b0fe",
   "metadata": {},
   "outputs": [
    {
     "name": "stdout",
     "output_type": "stream",
     "text": [
      "1 - Add\n",
      "2 - Subtract\n",
      "3 - Multiply\n",
      "4 - Divide\n",
      "5 - Exit\n",
      "6 - GoodBye!\n"
     ]
    },
    {
     "name": "stdin",
     "output_type": "stream",
     "text": [
      "Choose an operation:  4\n",
      "Enter first number:  2\n",
      "Enter second number:  7\n"
     ]
    },
    {
     "name": "stdout",
     "output_type": "stream",
     "text": [
      "The result of 2.0 / 7.0 is: 0.2857142857142857\n"
     ]
    },
    {
     "name": "stdin",
     "output_type": "stream",
     "text": [
      "Do you want to perform another calculation? (yes/no):  n\n"
     ]
    },
    {
     "name": "stdout",
     "output_type": "stream",
     "text": [
      "Goodbye!\n"
     ]
    }
   ],
   "source": [
    "while True:\n",
    "    print(\"1 - Add\")\n",
    "    print(\"2 - Subtract\")\n",
    "    print(\"3 - Multiply\")\n",
    "    print(\"4 - Divide\")\n",
    "    print(\"5 - Exit\")\n",
    "    print(\"6 - GoodBye!\")\n",
    "\n",
    "    try:\n",
    "        option = int(input(\"Choose an operation: \"))\n",
    "    except ValueError:\n",
    "        print(\"Invalid input. Please enter a number.\")\n",
    "        continue\n",
    "\n",
    "    if option == 5 or option == 6:\n",
    "        print(\"Goodbye!\")\n",
    "        break\n",
    "\n",
    "    if option not in [1, 2, 3, 4]:\n",
    "        print(\"Invalid option. Try again.\")\n",
    "        continue\n",
    "\n",
    "    try:\n",
    "        num1 = float(input(\"Enter first number: \"))\n",
    "        num2 = float(input(\"Enter second number: \"))\n",
    "    except ValueError:\n",
    "        print(\"Please enter valid numbers.\")\n",
    "        continue\n",
    "\n",
    "    if option == 1:\n",
    "        result = num1 + num2\n",
    "        op_symbol = \"+\"\n",
    "    elif option == 2:\n",
    "        result = num1 - num2\n",
    "        op_symbol = \"-\"\n",
    "    elif option == 3:\n",
    "        result = num1 * num2\n",
    "        op_symbol = \"*\"\n",
    "    elif option == 4:\n",
    "        if num2 != 0:\n",
    "            result = num1 / num2\n",
    "            op_symbol = \"/\"\n",
    "        else:\n",
    "            print(\"Cannot divide by zero.\")\n",
    "            continue\n",
    "\n",
    "    print(f\"Result: {num1} {op_symbol} {num2} = {result:.2f}\")\n",
    "\n",
    "    another = input(\"Do you want another calculation? (yes/no): \").strip().lower()\n",
    "    if another != \"yes\":\n",
    "        print(\"Goodbye!\")\n",
    "        break"
   ]
  },
  {
   "cell_type": "code",
   "execution_count": null,
   "id": "5e8b2cf7-aba8-4612-b113-1084200d0829",
   "metadata": {},
   "outputs": [],
   "source": []
  }
 ],
 "metadata": {
  "kernelspec": {
   "display_name": "Python 3 (ipykernel)",
   "language": "python",
   "name": "python3"
  },
  "language_info": {
   "codemirror_mode": {
    "name": "ipython",
    "version": 3
   },
   "file_extension": ".py",
   "mimetype": "text/x-python",
   "name": "python",
   "nbconvert_exporter": "python",
   "pygments_lexer": "ipython3",
   "version": "3.12.5"
  }
 },
 "nbformat": 4,
 "nbformat_minor": 5
}
